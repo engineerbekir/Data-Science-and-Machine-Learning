{
  "nbformat": 4,
  "nbformat_minor": 0,
  "metadata": {
    "colab": {
      "provenance": []
    },
    "kernelspec": {
      "name": "python3",
      "display_name": "Python 3"
    },
    "language_info": {
      "name": "python"
    },
    "gpuClass": "standard"
  },
  "cells": [
    {
      "cell_type": "markdown",
      "source": [
        "# Clustering\n",
        "* Clustering is the grouping of data showing similar characteristics in a data set.\n",
        "* It is an unsupervised learning method."
      ],
      "metadata": {
        "id": "npwPYUNm18FF"
      }
    },
    {
      "cell_type": "markdown",
      "source": [
        "## K - Means Clustering \n",
        "* It means dividing a data set of N data objects into K sets given as input parameters\n",
        "* The K Means algorithm tries to detect K clusters that will make the squared error the lowest.\n",
        "* The algorithm basically consists of 4 stages.\n",
        "   1. Determination of cluster centers\n",
        "   2. Clustering data outside the center according to their distance.\n",
        "   3. Identifying new centers or shifting old centers to new centers according to the clustering.\n",
        "   4. Repeating 2nd and 3rd walks until stable.\n"
      ],
      "metadata": {
        "id": "kmmy_LZD2NmB"
      }
    },
    {
      "cell_type": "code",
      "source": [
        "# import libraries\n",
        "import numpy as np\n",
        "import pandas as pd \n",
        "import matplotlib.pyplot as plt "
      ],
      "metadata": {
        "id": "y7qNYGLXNfNG"
      },
      "execution_count": 1,
      "outputs": []
    },
    {
      "cell_type": "code",
      "execution_count": 2,
      "metadata": {
        "id": "xmCGJjtq1n-0",
        "colab": {
          "base_uri": "https://localhost:8080/",
          "height": 206
        },
        "outputId": "4be925ee-fb4d-41bd-bf81-94c0f9159107"
      },
      "outputs": [
        {
          "output_type": "execute_result",
          "data": {
            "text/plain": [
              "           x          y\n",
              "0  32.954649  27.643159\n",
              "1  28.086297  22.535851\n",
              "2  19.111868  24.143621\n",
              "3  28.224516  16.731210\n",
              "4  36.031569  26.152305"
            ],
            "text/html": [
              "\n",
              "  <div id=\"df-9fee8f60-59b0-4d0c-b90a-fa040c48fbe7\">\n",
              "    <div class=\"colab-df-container\">\n",
              "      <div>\n",
              "<style scoped>\n",
              "    .dataframe tbody tr th:only-of-type {\n",
              "        vertical-align: middle;\n",
              "    }\n",
              "\n",
              "    .dataframe tbody tr th {\n",
              "        vertical-align: top;\n",
              "    }\n",
              "\n",
              "    .dataframe thead th {\n",
              "        text-align: right;\n",
              "    }\n",
              "</style>\n",
              "<table border=\"1\" class=\"dataframe\">\n",
              "  <thead>\n",
              "    <tr style=\"text-align: right;\">\n",
              "      <th></th>\n",
              "      <th>x</th>\n",
              "      <th>y</th>\n",
              "    </tr>\n",
              "  </thead>\n",
              "  <tbody>\n",
              "    <tr>\n",
              "      <th>0</th>\n",
              "      <td>32.954649</td>\n",
              "      <td>27.643159</td>\n",
              "    </tr>\n",
              "    <tr>\n",
              "      <th>1</th>\n",
              "      <td>28.086297</td>\n",
              "      <td>22.535851</td>\n",
              "    </tr>\n",
              "    <tr>\n",
              "      <th>2</th>\n",
              "      <td>19.111868</td>\n",
              "      <td>24.143621</td>\n",
              "    </tr>\n",
              "    <tr>\n",
              "      <th>3</th>\n",
              "      <td>28.224516</td>\n",
              "      <td>16.731210</td>\n",
              "    </tr>\n",
              "    <tr>\n",
              "      <th>4</th>\n",
              "      <td>36.031569</td>\n",
              "      <td>26.152305</td>\n",
              "    </tr>\n",
              "  </tbody>\n",
              "</table>\n",
              "</div>\n",
              "      <button class=\"colab-df-convert\" onclick=\"convertToInteractive('df-9fee8f60-59b0-4d0c-b90a-fa040c48fbe7')\"\n",
              "              title=\"Convert this dataframe to an interactive table.\"\n",
              "              style=\"display:none;\">\n",
              "        \n",
              "  <svg xmlns=\"http://www.w3.org/2000/svg\" height=\"24px\"viewBox=\"0 0 24 24\"\n",
              "       width=\"24px\">\n",
              "    <path d=\"M0 0h24v24H0V0z\" fill=\"none\"/>\n",
              "    <path d=\"M18.56 5.44l.94 2.06.94-2.06 2.06-.94-2.06-.94-.94-2.06-.94 2.06-2.06.94zm-11 1L8.5 8.5l.94-2.06 2.06-.94-2.06-.94L8.5 2.5l-.94 2.06-2.06.94zm10 10l.94 2.06.94-2.06 2.06-.94-2.06-.94-.94-2.06-.94 2.06-2.06.94z\"/><path d=\"M17.41 7.96l-1.37-1.37c-.4-.4-.92-.59-1.43-.59-.52 0-1.04.2-1.43.59L10.3 9.45l-7.72 7.72c-.78.78-.78 2.05 0 2.83L4 21.41c.39.39.9.59 1.41.59.51 0 1.02-.2 1.41-.59l7.78-7.78 2.81-2.81c.8-.78.8-2.07 0-2.86zM5.41 20L4 18.59l7.72-7.72 1.47 1.35L5.41 20z\"/>\n",
              "  </svg>\n",
              "      </button>\n",
              "      \n",
              "  <style>\n",
              "    .colab-df-container {\n",
              "      display:flex;\n",
              "      flex-wrap:wrap;\n",
              "      gap: 12px;\n",
              "    }\n",
              "\n",
              "    .colab-df-convert {\n",
              "      background-color: #E8F0FE;\n",
              "      border: none;\n",
              "      border-radius: 50%;\n",
              "      cursor: pointer;\n",
              "      display: none;\n",
              "      fill: #1967D2;\n",
              "      height: 32px;\n",
              "      padding: 0 0 0 0;\n",
              "      width: 32px;\n",
              "    }\n",
              "\n",
              "    .colab-df-convert:hover {\n",
              "      background-color: #E2EBFA;\n",
              "      box-shadow: 0px 1px 2px rgba(60, 64, 67, 0.3), 0px 1px 3px 1px rgba(60, 64, 67, 0.15);\n",
              "      fill: #174EA6;\n",
              "    }\n",
              "\n",
              "    [theme=dark] .colab-df-convert {\n",
              "      background-color: #3B4455;\n",
              "      fill: #D2E3FC;\n",
              "    }\n",
              "\n",
              "    [theme=dark] .colab-df-convert:hover {\n",
              "      background-color: #434B5C;\n",
              "      box-shadow: 0px 1px 3px 1px rgba(0, 0, 0, 0.15);\n",
              "      filter: drop-shadow(0px 1px 2px rgba(0, 0, 0, 0.3));\n",
              "      fill: #FFFFFF;\n",
              "    }\n",
              "  </style>\n",
              "\n",
              "      <script>\n",
              "        const buttonEl =\n",
              "          document.querySelector('#df-9fee8f60-59b0-4d0c-b90a-fa040c48fbe7 button.colab-df-convert');\n",
              "        buttonEl.style.display =\n",
              "          google.colab.kernel.accessAllowed ? 'block' : 'none';\n",
              "\n",
              "        async function convertToInteractive(key) {\n",
              "          const element = document.querySelector('#df-9fee8f60-59b0-4d0c-b90a-fa040c48fbe7');\n",
              "          const dataTable =\n",
              "            await google.colab.kernel.invokeFunction('convertToInteractive',\n",
              "                                                     [key], {});\n",
              "          if (!dataTable) return;\n",
              "\n",
              "          const docLinkHtml = 'Like what you see? Visit the ' +\n",
              "            '<a target=\"_blank\" href=https://colab.research.google.com/notebooks/data_table.ipynb>data table notebook</a>'\n",
              "            + ' to learn more about interactive tables.';\n",
              "          element.innerHTML = '';\n",
              "          dataTable['output_type'] = 'display_data';\n",
              "          await google.colab.output.renderOutput(dataTable, element);\n",
              "          const docLink = document.createElement('div');\n",
              "          docLink.innerHTML = docLinkHtml;\n",
              "          element.appendChild(docLink);\n",
              "        }\n",
              "      </script>\n",
              "    </div>\n",
              "  </div>\n",
              "  "
            ]
          },
          "metadata": {},
          "execution_count": 2
        }
      ],
      "source": [
        "# create dataset\n",
        "\n",
        "# cluster 1\n",
        "x1 = np.random.normal(25,5,1000) # At 25, there are 1000 points with a standard deviation of 5.\n",
        "y1 = np.random.normal(25,5,1000)\n",
        "\n",
        "# cluster 2\n",
        "x2 = np.random.normal(55,5,1000)\n",
        "y2 = np.random.normal(60,5,1000)\n",
        "\n",
        "# cluster 3\n",
        "x3 = np.random.normal(55,5,1000)\n",
        "y3 = np.random.normal(15,5,1000)\n",
        "\n",
        "x = np.concatenate((x1,x2,x3), axis = 0)\n",
        "y = np.concatenate((y1,y2,y3), axis = 0)\n",
        "\n",
        "dictionary = {\"x\":x, \"y\":y}\n",
        "data = pd.DataFrame(dictionary)\n",
        "data.head()"
      ]
    },
    {
      "cell_type": "code",
      "source": [
        "plt.figure()\n",
        "plt.scatter(x1,y1)\n",
        "plt.scatter(x2,y2)\n",
        "plt.scatter(x3,y3)\n",
        "plt.xlabel(\"x\")\n",
        "plt.ylabel(\"y\")\n",
        "plt.title(\"Dataset for K-Mean Clustering Algorithm\")\n",
        "plt.show()"
      ],
      "metadata": {
        "id": "f8y3cUQFyxST",
        "colab": {
          "base_uri": "https://localhost:8080/",
          "height": 295
        },
        "outputId": "664977fd-36f5-4ee8-c9a6-4873936d8a41"
      },
      "execution_count": 3,
      "outputs": [
        {
          "output_type": "display_data",
          "data": {
            "text/plain": [
              "<Figure size 432x288 with 1 Axes>"
            ],
            "image/png": "[encoded data removed]"
          },
          "metadata": {
            "needs_background": "light"
          }
        }
      ]
    },
    {
      "cell_type": "code",
      "source": [
        "# k means algorithm will see the data like this\n",
        "plt.figure()\n",
        "plt.scatter(x1,y1, color = \"black\")\n",
        "plt.scatter(x2,y2, color = \"black\")\n",
        "plt.scatter(x3,y3, color = \"black\")\n",
        "plt.xlabel(\"x\")\n",
        "plt.ylabel(\"y\")\n",
        "plt.title(\"K-Ortalama Öbekleme Algoritması için Veri Seti\")\n",
        "plt.show()\n"
      ],
      "metadata": {
        "id": "rjjRKg_U2IoY",
        "colab": {
          "base_uri": "https://localhost:8080/",
          "height": 296
        },
        "outputId": "8311f943-7458-4d95-81c8-df3e3c583f2c"
      },
      "execution_count": 4,
      "outputs": [
        {
          "output_type": "display_data",
          "data": {
            "text/plain": [
              "<Figure size 432x288 with 1 Axes>"
            ],
            "image/png": "[encoded data removed]"
          },
          "metadata": {
            "needs_background": "light"
          }
        }
      ]
    },
    {
      "cell_type": "markdown",
      "source": [
        "* Finding the Best K Value\n",
        "* what is the # Elbow method?"
      ],
      "metadata": {
        "id": "uZWSTer_SEPt"
      }
    },
    {
      "cell_type": "code",
      "source": [
        "from sklearn.cluster import KMeans\n",
        "\n",
        "# # Elbow method\n",
        "\n",
        "variable = []\n",
        "\n",
        "for k in range(1,15):\n",
        "  kmeans = KMeans(n_clusters = k)\n",
        "  kmeans.fit(data)\n",
        "  variable.append(kmeans.inertia_)\n",
        "\n",
        "\n",
        "plt.figure()  \n",
        "plt.plot(range(1,15), variable)\n",
        "plt.xticks(range(1,15))\n",
        "plt.xlabel(\"Number of Clusters/Heaps (K)\")\n",
        "plt.ylabel(\"K-Means Inertia\")\n",
        "plt.show()"
      ],
      "metadata": {
        "id": "MfLFiqyG2Odc",
        "colab": {
          "base_uri": "https://localhost:8080/",
          "height": 290
        },
        "outputId": "73889479-1c4e-48cc-9fe5-ec792fe68bc6"
      },
      "execution_count": 5,
      "outputs": [
        {
          "output_type": "display_data",
          "data": {
            "text/plain": [
              "<Figure size 432x288 with 1 Axes>"
            ],
            "image/png": "[encoded data removed]"
          },
          "metadata": {
            "needs_background": "light"
          }
        }
      ]
    },
    {
      "cell_type": "code",
      "source": [
        "k_means = KMeans(n_clusters = 3)\n",
        "clusters = k_means.fit_predict(data)\n",
        "\n",
        "data[\"label\"] = clusters\n",
        "\n",
        "plt.figure()\n",
        "plt.scatter(data.x[data.label == 0], data.y[data.label == 0], color = \"red\", label = \"Cluster 1\")\n",
        "plt.scatter(data.x[data.label == 1], data.y[data.label == 1], color = \"green\", label = \"Cluster 2\")\n",
        "plt.scatter(data.x[data.label == 2], data.y[data.label == 2], color = \"blue\", label = \"Cluster 3\")\n",
        "plt.scatter(k_means.cluster_centers_[:,0], k_means.cluster_centers_[:,1], color = \"yellow\")\n",
        "plt.legend()\n",
        "plt.xlabel(\"x\")\n",
        "plt.ylabel(\"y\")\n",
        "plt.title(\"3-Mean Clustering Result\")\n",
        "plt.show()\n"
      ],
      "metadata": {
        "id": "DOYN8_U-2T85",
        "colab": {
          "base_uri": "https://localhost:8080/",
          "height": 295
        },
        "outputId": "a9abdae6-85d9-4716-c2c9-659022e5b533"
      },
      "execution_count": 6,
      "outputs": [
        {
          "output_type": "display_data",
          "data": {
            "text/plain": [
              "<Figure size 432x288 with 1 Axes>"
            ],
            "image/png": "[encoded data removed]"
          },
          "metadata": {
            "needs_background": "light"
          }
        }
      ]
    },
    {
      "cell_type": "markdown",
      "source": [
        "## Hierarchical Clustering\n",
        "* Hierarchical clustering is a cluster analysis method that attempts to construct a cluster hierarchy.\n",
        "* Hierarchical clustering strategies are generally divided into 2 types.\n",
        "   1. Agglomerative: This is a \"bottom-up\" approach: each observation starts in its own cluster, and as it moves up its steps, pairs of clusters converge.\n",
        "   2. Divider: This is a \"top down\" approach: all observations begin in a single cell, and divisions are performed iteratively as they work their way down the processes."
      ],
      "metadata": {
        "id": "A1CoMfCMW-hg"
      }
    },
    {
      "cell_type": "code",
      "source": [
        "# create dataset\n",
        "\n",
        "# cluster 1\n",
        "x1 = np.random.normal(25,5,20) # At 25, there are 1000 points with a standard deviation of 5.\n",
        "y1 = np.random.normal(25,5,20)\n",
        "\n",
        "# cluster 2\n",
        "x2 = np.random.normal(55,5,20)\n",
        "y2 = np.random.normal(60,5,20)\n",
        "\n",
        "# cluster 3\n",
        "x3 = np.random.normal(55,5,20)\n",
        "y3 = np.random.normal(15,5,20)\n",
        "\n",
        "x = np.concatenate((x1,x2,x3), axis = 0)\n",
        "y = np.concatenate((y1,y2,y3), axis = 0)\n",
        "\n",
        "dictionary = {\"x\":x, \"y\":y}\n",
        "\n",
        "data = pd.DataFrame(dictionary)\n",
        "data.head()"
      ],
      "metadata": {
        "colab": {
          "base_uri": "https://localhost:8080/",
          "height": 206
        },
        "id": "MmkEYSWnbte-",
        "outputId": "a942ef9d-8b62-45aa-c2e5-e1a18942426d"
      },
      "execution_count": 7,
      "outputs": [
        {
          "output_type": "execute_result",
          "data": {
            "text/plain": [
              "           x          y\n",
              "0  29.801609  28.279356\n",
              "1  25.178424  19.796770\n",
              "2  27.021191  27.326619\n",
              "3  23.133912  20.494177\n",
              "4  26.120279  23.635511"
            ],
            "text/html": [
              "\n",
              "  <div id=\"df-1d6b5f4c-190a-40f8-9bbb-1235509007e4\">\n",
              "    <div class=\"colab-df-container\">\n",
              "      <div>\n",
              "<style scoped>\n",
              "    .dataframe tbody tr th:only-of-type {\n",
              "        vertical-align: middle;\n",
              "    }\n",
              "\n",
              "    .dataframe tbody tr th {\n",
              "        vertical-align: top;\n",
              "    }\n",
              "\n",
              "    .dataframe thead th {\n",
              "        text-align: right;\n",
              "    }\n",
              "</style>\n",
              "<table border=\"1\" class=\"dataframe\">\n",
              "  <thead>\n",
              "    <tr style=\"text-align: right;\">\n",
              "      <th></th>\n",
              "      <th>x</th>\n",
              "      <th>y</th>\n",
              "    </tr>\n",
              "  </thead>\n",
              "  <tbody>\n",
              "    <tr>\n",
              "      <th>0</th>\n",
              "      <td>29.801609</td>\n",
              "      <td>28.279356</td>\n",
              "    </tr>\n",
              "    <tr>\n",
              "      <th>1</th>\n",
              "      <td>25.178424</td>\n",
              "      <td>19.796770</td>\n",
              "    </tr>\n",
              "    <tr>\n",
              "      <th>2</th>\n",
              "      <td>27.021191</td>\n",
              "      <td>27.326619</td>\n",
              "    </tr>\n",
              "    <tr>\n",
              "      <th>3</th>\n",
              "      <td>23.133912</td>\n",
              "      <td>20.494177</td>\n",
              "    </tr>\n",
              "    <tr>\n",
              "      <th>4</th>\n",
              "      <td>26.120279</td>\n",
              "      <td>23.635511</td>\n",
              "    </tr>\n",
              "  </tbody>\n",
              "</table>\n",
              "</div>\n",
              "      <button class=\"colab-df-convert\" onclick=\"convertToInteractive('df-1d6b5f4c-190a-40f8-9bbb-1235509007e4')\"\n",
              "              title=\"Convert this dataframe to an interactive table.\"\n",
              "              style=\"display:none;\">\n",
              "        \n",
              "  <svg xmlns=\"http://www.w3.org/2000/svg\" height=\"24px\"viewBox=\"0 0 24 24\"\n",
              "       width=\"24px\">\n",
              "    <path d=\"M0 0h24v24H0V0z\" fill=\"none\"/>\n",
              "    <path d=\"M18.56 5.44l.94 2.06.94-2.06 2.06-.94-2.06-.94-.94-2.06-.94 2.06-2.06.94zm-11 1L8.5 8.5l.94-2.06 2.06-.94-2.06-.94L8.5 2.5l-.94 2.06-2.06.94zm10 10l.94 2.06.94-2.06 2.06-.94-2.06-.94-.94-2.06-.94 2.06-2.06.94z\"/><path d=\"M17.41 7.96l-1.37-1.37c-.4-.4-.92-.59-1.43-.59-.52 0-1.04.2-1.43.59L10.3 9.45l-7.72 7.72c-.78.78-.78 2.05 0 2.83L4 21.41c.39.39.9.59 1.41.59.51 0 1.02-.2 1.41-.59l7.78-7.78 2.81-2.81c.8-.78.8-2.07 0-2.86zM5.41 20L4 18.59l7.72-7.72 1.47 1.35L5.41 20z\"/>\n",
              "  </svg>\n",
              "      </button>\n",
              "      \n",
              "  <style>\n",
              "    .colab-df-container {\n",
              "      display:flex;\n",
              "      flex-wrap:wrap;\n",
              "      gap: 12px;\n",
              "    }\n",
              "\n",
              "    .colab-df-convert {\n",
              "      background-color: #E8F0FE;\n",
              "      border: none;\n",
              "      border-radius: 50%;\n",
              "      cursor: pointer;\n",
              "      display: none;\n",
              "      fill: #1967D2;\n",
              "      height: 32px;\n",
              "      padding: 0 0 0 0;\n",
              "      width: 32px;\n",
              "    }\n",
              "\n",
              "    .colab-df-convert:hover {\n",
              "      background-color: #E2EBFA;\n",
              "      box-shadow: 0px 1px 2px rgba(60, 64, 67, 0.3), 0px 1px 3px 1px rgba(60, 64, 67, 0.15);\n",
              "      fill: #174EA6;\n",
              "    }\n",
              "\n",
              "    [theme=dark] .colab-df-convert {\n",
              "      background-color: #3B4455;\n",
              "      fill: #D2E3FC;\n",
              "    }\n",
              "\n",
              "    [theme=dark] .colab-df-convert:hover {\n",
              "      background-color: #434B5C;\n",
              "      box-shadow: 0px 1px 3px 1px rgba(0, 0, 0, 0.15);\n",
              "      filter: drop-shadow(0px 1px 2px rgba(0, 0, 0, 0.3));\n",
              "      fill: #FFFFFF;\n",
              "    }\n",
              "  </style>\n",
              "\n",
              "      <script>\n",
              "        const buttonEl =\n",
              "          document.querySelector('#df-1d6b5f4c-190a-40f8-9bbb-1235509007e4 button.colab-df-convert');\n",
              "        buttonEl.style.display =\n",
              "          google.colab.kernel.accessAllowed ? 'block' : 'none';\n",
              "\n",
              "        async function convertToInteractive(key) {\n",
              "          const element = document.querySelector('#df-1d6b5f4c-190a-40f8-9bbb-1235509007e4');\n",
              "          const dataTable =\n",
              "            await google.colab.kernel.invokeFunction('convertToInteractive',\n",
              "                                                     [key], {});\n",
              "          if (!dataTable) return;\n",
              "\n",
              "          const docLinkHtml = 'Like what you see? Visit the ' +\n",
              "            '<a target=\"_blank\" href=https://colab.research.google.com/notebooks/data_table.ipynb>data table notebook</a>'\n",
              "            + ' to learn more about interactive tables.';\n",
              "          element.innerHTML = '';\n",
              "          dataTable['output_type'] = 'display_data';\n",
              "          await google.colab.output.renderOutput(dataTable, element);\n",
              "          const docLink = document.createElement('div');\n",
              "          docLink.innerHTML = docLinkHtml;\n",
              "          element.appendChild(docLink);\n",
              "        }\n",
              "      </script>\n",
              "    </div>\n",
              "  </div>\n",
              "  "
            ]
          },
          "metadata": {},
          "execution_count": 7
        }
      ]
    },
    {
      "cell_type": "code",
      "source": [
        "plt.figure()\n",
        "plt.scatter(x1,y1)\n",
        "plt.scatter(x2,y2)\n",
        "plt.scatter(x3,y3)\n",
        "plt.xlabel(\"x\")\n",
        "plt.ylabel(\"y\")\n",
        "plt.title(\"The dataset created for hierarchical clustering.\")\n",
        "plt.show()"
      ],
      "metadata": {
        "colab": {
          "base_uri": "https://localhost:8080/",
          "height": 295
        },
        "id": "8p6UlmNydwBe",
        "outputId": "0bd7aaf9-11fe-4bc0-877f-8a0e6c7aac59"
      },
      "execution_count": 8,
      "outputs": [
        {
          "output_type": "display_data",
          "data": {
            "text/plain": [
              "<Figure size 432x288 with 1 Axes>"
            ],
            "image/png": "[encoded data removed]"
          },
          "metadata": {
            "needs_background": "light"
          }
        }
      ]
    },
    {
      "cell_type": "markdown",
      "source": [
        "### Dendrogram Representation."
      ],
      "metadata": {
        "id": "lp-AjWWCftqu"
      }
    },
    {
      "cell_type": "code",
      "source": [
        "from scipy.cluster.hierarchy import linkage, dendrogram\n",
        "\n",
        "merg = linkage(data, method = \"ward\")\n",
        "dendrogram(merg, leaf_rotation = 90)\n",
        "plt.xlabel(\"Data Points\")\n",
        "plt.ylabel(\"Euclidean distance\")\n",
        "plt.show()"
      ],
      "metadata": {
        "colab": {
          "base_uri": "https://localhost:8080/",
          "height": 277
        },
        "id": "wk_y7ymvfxcx",
        "outputId": "bd36fed0-3596-4fe7-b092-4e26c25a4b7e"
      },
      "execution_count": 9,
      "outputs": [
        {
          "output_type": "display_data",
          "data": {
            "text/plain": [
              "<Figure size 432x288 with 1 Axes>"
            ],
            "image/png": "[encoded data removed]"
          },
          "metadata": {
            "needs_background": "light"
          }
        }
      ]
    },
    {
      "cell_type": "markdown",
      "source": [
        "* Based on the resulting figure, if we make a cut from the longest leaves, we can see that we have 3 clusters. Therefore, when training the hierarchical clustering method, 3 clusters are created."
      ],
      "metadata": {
        "id": "sKDyfxFWko9S"
      }
    },
    {
      "cell_type": "code",
      "source": [
        "from sklearn.cluster import AgglomerativeClustering \n",
        "\n",
        "hierarchy_cluster = AgglomerativeClustering(n_clusters = 3, affinity = \"euclidean\", linkage = \"ward\")\n",
        "clusters = hierarchy_cluster.fit_predict(data)\n",
        "\n",
        "data[\"label\"] = clusters\n",
        "\n",
        "plt.figure()\n",
        "plt.scatter(data.x[data.label == 0], data.y[data.label == 0], color = \"red\", label = \"Cluster 1\")\n",
        "plt.scatter(data.x[data.label == 1], data.y[data.label == 1], color = \"green\", label = \"Cluster 2\")\n",
        "plt.scatter(data.x[data.label == 2], data.y[data.label == 2], color = \"blue\", label = \"Cluster 3\")\n",
        "plt.scatter(k_means.cluster_centers_[:,0], k_means.cluster_centers_[:,1], color = \"yellow\")\n",
        "plt.legend()\n",
        "plt.xlabel(\"x\")\n",
        "plt.ylabel(\"y\")\n",
        "plt.title(\"3-Mean Clustering Result\")\n",
        "plt.show()"
      ],
      "metadata": {
        "colab": {
          "base_uri": "https://localhost:8080/",
          "height": 295
        },
        "id": "t4NppRnWl27x",
        "outputId": "36f42144-2722-47df-ef4f-e8a6b46bd979"
      },
      "execution_count": 10,
      "outputs": [
        {
          "output_type": "display_data",
          "data": {
            "text/plain": [
              "<Figure size 432x288 with 1 Axes>"
            ],
            "image/png": "[encoded data removed]"
          },
          "metadata": {
            "needs_background": "light"
          }
        }
      ]
    }
  ]
}